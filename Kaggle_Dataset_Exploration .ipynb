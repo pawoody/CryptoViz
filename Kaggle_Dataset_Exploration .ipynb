{
 "cells": [
  {
   "cell_type": "markdown",
   "metadata": {},
   "source": [
    "Notebook Purpose:\n",
    "\n",
    "- Explore Kaggle dataset containing hourly historical OHLCV for BTC to determine if it can be used as a suitable replacement to generating my own API queries (limited by free version)\n",
    "- Compare dataset contents with chosen API to ensure compatibility"
   ]
  },
  {
   "cell_type": "code",
   "execution_count": 1,
   "metadata": {},
   "outputs": [],
   "source": [
    "import pandas as pd\n",
    "import matplotlib.pyplot as plt"
   ]
  },
  {
   "cell_type": "code",
   "execution_count": 2,
   "metadata": {},
   "outputs": [],
   "source": [
    "df = pd.read_csv('BTC_Historical/bitstampUSD_1-min_data_2012-01-01_to_2020-04-22.csv')"
   ]
  },
  {
   "cell_type": "code",
   "execution_count": 6,
   "metadata": {},
   "outputs": [
    {
     "name": "stdout",
     "output_type": "stream",
     "text": [
      "Index(['Timestamp', 'Open', 'High', 'Low', 'Close', 'Volume_(BTC)',\n",
      "       'Volume_(Currency)', 'Weighted_Price'],\n",
      "      dtype='object')\n"
     ]
    }
   ],
   "source": [
    "# Previewing Kaggle Dataset Features:\n",
    "print(df.columns)"
   ]
  },
  {
   "cell_type": "code",
   "execution_count": 9,
   "metadata": {},
   "outputs": [
    {
     "name": "stdout",
     "output_type": "stream",
     "text": [
      "Index(['Unnamed: 0', 'time_period_start', 'time_period_end', 'time_open',\n",
      "       'time_close', 'price_open', 'price_high', 'price_low', 'price_close',\n",
      "       'volume_traded', 'trades_count'],\n",
      "      dtype='object')\n"
     ]
    }
   ],
   "source": [
    "# Comparing features with my own Query to assess compatibility:\n",
    "df_api = pd.read_csv('Historical_Data/df_2016_1hrs.csv')\n",
    "print(df_api.columns)"
   ]
  },
  {
   "cell_type": "markdown",
   "metadata": {},
   "source": [
    "Note - I'll likely need to choose whichever time_period column matches the other dataset and drop the remainders.\n",
    "\n",
    "Now, I'll investigate the Kaggle dataset more closely, following the OSEMN methodology."
   ]
  },
  {
   "cell_type": "code",
   "execution_count": 4,
   "metadata": {},
   "outputs": [
    {
     "data": {
      "text/plain": [
       "True"
      ]
     },
     "execution_count": 4,
     "metadata": {},
     "output_type": "execute_result"
    }
   ],
   "source": [
    "# Checking dataset for missing values\n",
    "df.isna().any().any()"
   ]
  },
  {
   "cell_type": "code",
   "execution_count": 5,
   "metadata": {},
   "outputs": [
    {
     "data": {
      "text/plain": [
       "Timestamp            False\n",
       "Open                  True\n",
       "High                  True\n",
       "Low                   True\n",
       "Close                 True\n",
       "Volume_(BTC)          True\n",
       "Volume_(Currency)     True\n",
       "Weighted_Price        True\n",
       "dtype: bool"
      ]
     },
     "execution_count": 5,
     "metadata": {},
     "output_type": "execute_result"
    }
   ],
   "source": [
    "df.isna().any()"
   ]
  },
  {
   "cell_type": "markdown",
   "metadata": {},
   "source": [
    "Note - historical dataset contains many missing values, will need to make a determination for what to do with these datapoints (or when to choose as our \"start date\")."
   ]
  },
  {
   "cell_type": "code",
   "execution_count": 13,
   "metadata": {},
   "outputs": [
    {
     "data": {
      "text/plain": [
       "0          False\n",
       "1           True\n",
       "2           True\n",
       "3           True\n",
       "4           True\n",
       "           ...  \n",
       "4363452    False\n",
       "4363453    False\n",
       "4363454    False\n",
       "4363455    False\n",
       "4363456    False\n",
       "Name: Open, Length: 4363457, dtype: bool"
      ]
     },
     "execution_count": 13,
     "metadata": {},
     "output_type": "execute_result"
    }
   ],
   "source": [
    "df.Open.isna()"
   ]
  },
  {
   "cell_type": "code",
   "execution_count": 16,
   "metadata": {
    "scrolled": true
   },
   "outputs": [
    {
     "name": "stdout",
     "output_type": "stream",
     "text": [
      " The Timestamp column contains 0 missing values.\n",
      " The Open column contains 1236977 missing values.\n",
      " The High column contains 1236977 missing values.\n",
      " The Low column contains 1236977 missing values.\n",
      " The Close column contains 1236977 missing values.\n",
      " The Volume_(BTC) column contains 1236977 missing values.\n",
      " The Volume_(Currency) column contains 1236977 missing values.\n",
      " The Weighted_Price column contains 1236977 missing values.\n"
     ]
    }
   ],
   "source": [
    "# Checking to see how many values each column contains:\n",
    "for col in df.columns:\n",
    "    print(f' The {col} column contains {df[col].isnull().sum()} missing values.')"
   ]
  },
  {
   "cell_type": "markdown",
   "metadata": {},
   "source": [
    "Because we can see that each column (aside from Timestamp) contains the same number of missing values, it's likely we can deal with all of these values at once.\n",
    "\n",
    "Next, I'll segment all datapoints containing missing values into a new DataFrame to see if there are any observable patterns (eg. suppose in 2015 values were only updated daily, so hourly timestamps wouldn't be relevant)."
   ]
  },
  {
   "cell_type": "code",
   "execution_count": 24,
   "metadata": {
    "scrolled": true
   },
   "outputs": [
    {
     "data": {
      "text/html": [
       "<div>\n",
       "<style scoped>\n",
       "    .dataframe tbody tr th:only-of-type {\n",
       "        vertical-align: middle;\n",
       "    }\n",
       "\n",
       "    .dataframe tbody tr th {\n",
       "        vertical-align: top;\n",
       "    }\n",
       "\n",
       "    .dataframe thead th {\n",
       "        text-align: right;\n",
       "    }\n",
       "</style>\n",
       "<table border=\"1\" class=\"dataframe\">\n",
       "  <thead>\n",
       "    <tr style=\"text-align: right;\">\n",
       "      <th></th>\n",
       "      <th>Timestamp</th>\n",
       "      <th>Open</th>\n",
       "      <th>High</th>\n",
       "      <th>Low</th>\n",
       "      <th>Close</th>\n",
       "      <th>Volume_(BTC)</th>\n",
       "      <th>Volume_(Currency)</th>\n",
       "      <th>Weighted_Price</th>\n",
       "    </tr>\n",
       "  </thead>\n",
       "  <tbody>\n",
       "    <tr>\n",
       "      <th>1</th>\n",
       "      <td>1325317980</td>\n",
       "      <td>NaN</td>\n",
       "      <td>NaN</td>\n",
       "      <td>NaN</td>\n",
       "      <td>NaN</td>\n",
       "      <td>NaN</td>\n",
       "      <td>NaN</td>\n",
       "      <td>NaN</td>\n",
       "    </tr>\n",
       "    <tr>\n",
       "      <th>2</th>\n",
       "      <td>1325318040</td>\n",
       "      <td>NaN</td>\n",
       "      <td>NaN</td>\n",
       "      <td>NaN</td>\n",
       "      <td>NaN</td>\n",
       "      <td>NaN</td>\n",
       "      <td>NaN</td>\n",
       "      <td>NaN</td>\n",
       "    </tr>\n",
       "    <tr>\n",
       "      <th>3</th>\n",
       "      <td>1325318100</td>\n",
       "      <td>NaN</td>\n",
       "      <td>NaN</td>\n",
       "      <td>NaN</td>\n",
       "      <td>NaN</td>\n",
       "      <td>NaN</td>\n",
       "      <td>NaN</td>\n",
       "      <td>NaN</td>\n",
       "    </tr>\n",
       "    <tr>\n",
       "      <th>4</th>\n",
       "      <td>1325318160</td>\n",
       "      <td>NaN</td>\n",
       "      <td>NaN</td>\n",
       "      <td>NaN</td>\n",
       "      <td>NaN</td>\n",
       "      <td>NaN</td>\n",
       "      <td>NaN</td>\n",
       "      <td>NaN</td>\n",
       "    </tr>\n",
       "    <tr>\n",
       "      <th>5</th>\n",
       "      <td>1325318220</td>\n",
       "      <td>NaN</td>\n",
       "      <td>NaN</td>\n",
       "      <td>NaN</td>\n",
       "      <td>NaN</td>\n",
       "      <td>NaN</td>\n",
       "      <td>NaN</td>\n",
       "      <td>NaN</td>\n",
       "    </tr>\n",
       "  </tbody>\n",
       "</table>\n",
       "</div>"
      ],
      "text/plain": [
       "    Timestamp  Open  High  Low  Close  Volume_(BTC)  Volume_(Currency)  \\\n",
       "1  1325317980   NaN   NaN  NaN    NaN           NaN                NaN   \n",
       "2  1325318040   NaN   NaN  NaN    NaN           NaN                NaN   \n",
       "3  1325318100   NaN   NaN  NaN    NaN           NaN                NaN   \n",
       "4  1325318160   NaN   NaN  NaN    NaN           NaN                NaN   \n",
       "5  1325318220   NaN   NaN  NaN    NaN           NaN                NaN   \n",
       "\n",
       "   Weighted_Price  \n",
       "1             NaN  \n",
       "2             NaN  \n",
       "3             NaN  \n",
       "4             NaN  \n",
       "5             NaN  "
      ]
     },
     "execution_count": 24,
     "metadata": {},
     "output_type": "execute_result"
    }
   ],
   "source": [
    "# Let's create a new dataframe using all datapoints with null value for 'Open'\n",
    "df_missing = df[df['Open'].isnull()]\n",
    "df_missing.head()"
   ]
  },
  {
   "cell_type": "code",
   "execution_count": 30,
   "metadata": {},
   "outputs": [
    {
     "data": {
      "text/plain": [
       "array([4.39000e+00,         nan, 4.50000e+00, ..., 6.88247e+03,\n",
       "       6.85714e+03, 6.85060e+03])"
      ]
     },
     "execution_count": 30,
     "metadata": {},
     "output_type": "execute_result"
    }
   ],
   "source": [
    "df.Open.unique()"
   ]
  },
  {
   "cell_type": "markdown",
   "metadata": {},
   "source": [
    "By comparing other columns in this new DataFrame, we can determine whether (expected because val count is the same) missing values \"overlap\"."
   ]
  },
  {
   "cell_type": "code",
   "execution_count": 32,
   "metadata": {},
   "outputs": [
    {
     "name": "stdout",
     "output_type": "stream",
     "text": [
      " The Timestamp column contains 0 missing values.\n",
      " The Timestamp column contains [1325317980 1325318040 1325318100 ... 1587509220 1587509760 1587510300] as unique values.\n",
      " The Open column contains 1236977 missing values.\n",
      " The Open column contains [nan] as unique values.\n",
      " The High column contains 1236977 missing values.\n",
      " The High column contains [nan] as unique values.\n",
      " The Low column contains 1236977 missing values.\n",
      " The Low column contains [nan] as unique values.\n",
      " The Close column contains 1236977 missing values.\n",
      " The Close column contains [nan] as unique values.\n",
      " The Volume_(BTC) column contains 1236977 missing values.\n",
      " The Volume_(BTC) column contains [nan] as unique values.\n",
      " The Volume_(Currency) column contains 1236977 missing values.\n",
      " The Volume_(Currency) column contains [nan] as unique values.\n",
      " The Weighted_Price column contains 1236977 missing values.\n",
      " The Weighted_Price column contains [nan] as unique values.\n"
     ]
    }
   ],
   "source": [
    "for col in df_missing.columns:\n",
    "    print(f' The {col} column contains {df_missing[col].isnull().sum()} missing values.')\n",
    "    print(f' The {col} column contains {df_missing[col].unique()} as unique values.')"
   ]
  },
  {
   "cell_type": "markdown",
   "metadata": {},
   "source": [
    " "
   ]
  }
 ],
 "metadata": {
  "kernelspec": {
   "display_name": "CryptoViz",
   "language": "python",
   "name": "cryptoviz"
  },
  "language_info": {
   "codemirror_mode": {
    "name": "ipython",
    "version": 3
   },
   "file_extension": ".py",
   "mimetype": "text/x-python",
   "name": "python",
   "nbconvert_exporter": "python",
   "pygments_lexer": "ipython3",
   "version": "3.8.1"
  }
 },
 "nbformat": 4,
 "nbformat_minor": 4
}
